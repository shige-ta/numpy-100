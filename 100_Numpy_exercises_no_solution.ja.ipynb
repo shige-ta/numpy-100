{
  "cells": [
    {
      "cell_type": "markdown",
      "metadata": {
        "id": "cSK_Qx9dbIr7"
      },
      "source": [
        "# 100 numpy exercises (日本語翻訳版)\n",
        "\n",
        "<!--\n",
        "This is a collection of exercises that have been collected in the numpy mailing list, on stack overflow and in the numpy documentation. The goal of this collection is to offer a quick reference for both old and new users but also to provide a set of exercises for those who teach.\n",
        "If you find an error or think you've a better way to solve some of them, feel free to open an issue at <https://github.com/rougier/numpy-100>\n",
        "-->\n",
        "これは、numpy のメーリングリスト、stack overflow、numpy のドキュメントで収集された演習を集めたものです。\n",
        "このコレクションの目的は、昔からのユーザと新しいユーザの両方のためのクイックリファレンスを提供するだけでなく、\n",
        "教える人のために練習のセットを提供することです。\n",
        "エラーを見つけた場合や、より良い解法を見つけた場合は、遠慮なく、イシューをオープンしてください <https://github.com/rougier/numpy-100>\n",
        "\n",
        "個人の趣味で翻訳しています、日本語化での誤りやコメント等は、こちらに、イシューをオープンしてください。\n",
        "<https://github.com/osawat/numpy-100>"
      ]
    },
    {
      "cell_type": "markdown",
      "metadata": {
        "id": "WyW9wnWLbIr-"
      },
      "source": [
        "<!--\n",
        "#### 1. Import the numpy package under the name `np` (★☆☆) \n",
        "-->\n",
        "#### 1. numpy パッケージを `np` の名前でインポートする (★☆☆)"
      ]
    },
    {
      "cell_type": "code",
      "execution_count": 1,
      "metadata": {
        "id": "v9wDty3fbIr_"
      },
      "outputs": [],
      "source": [
        "import numpy as np"
      ]
    },
    {
      "cell_type": "markdown",
      "metadata": {
        "id": "b60xUQjYbIsA"
      },
      "source": [
        "<!--\n",
        "#### 2. Print the numpy version and the configuration (★☆☆) \n",
        "-->\n",
        "#### 2. numpy バージョンとその設定を表示する (★☆☆)"
      ]
    },
    {
      "cell_type": "code",
      "execution_count": 4,
      "metadata": {
        "id": "lcLeDr8MbIsB",
        "outputId": "d3cfdf90-b2a2-4490-da0d-7bb309a21178",
        "colab": {
          "base_uri": "https://localhost:8080/"
        }
      },
      "outputs": [
        {
          "output_type": "stream",
          "name": "stdout",
          "text": [
            "1.19.5\n"
          ]
        }
      ],
      "source": [
        "print(np.__version__)"
      ]
    },
    {
      "cell_type": "markdown",
      "metadata": {
        "id": "5MYCXaXebIsB"
      },
      "source": [
        "<!--\n",
        "#### 3. Create a null vector of size 10 (★☆☆) \n",
        "-->\n",
        "#### 3. 大きさ 10 の零ベクトルを生成する (★☆☆)"
      ]
    },
    {
      "cell_type": "code",
      "execution_count": 6,
      "metadata": {
        "id": "dVXmXOewbIsB",
        "outputId": "e47c1740-eeaa-453f-a2a8-1e7a53e2b08d",
        "colab": {
          "base_uri": "https://localhost:8080/"
        }
      },
      "outputs": [
        {
          "output_type": "execute_result",
          "data": {
            "text/plain": [
              "array([0., 0., 0., 0., 0., 0., 0., 0., 0., 0.])"
            ]
          },
          "metadata": {},
          "execution_count": 6
        }
      ],
      "source": [
        "zeros = np.zeros(10)\n",
        "zeros"
      ]
    },
    {
      "cell_type": "markdown",
      "metadata": {
        "id": "mEM-tOwlbIsC"
      },
      "source": [
        "<!--\n",
        "#### 4.  How to find the memory size of any array (★☆☆) \n",
        "-->\n",
        "#### 4.  配列のメモリーサイズを知る方法は (★☆☆) "
      ]
    },
    {
      "cell_type": "code",
      "execution_count": 7,
      "metadata": {
        "id": "IUCsljqJbIsC",
        "outputId": "7e31527b-28ab-4842-9221-5d048d562d3e",
        "colab": {
          "base_uri": "https://localhost:8080/"
        }
      },
      "outputs": [
        {
          "output_type": "execute_result",
          "data": {
            "text/plain": [
              "80"
            ]
          },
          "metadata": {},
          "execution_count": 7
        }
      ],
      "source": [
        "zeros.nbytes"
      ]
    },
    {
      "cell_type": "markdown",
      "metadata": {
        "id": "AUVu2C9BbIsD"
      },
      "source": [
        "<!--\n",
        "#### 5.  How to get the documentation of the numpy add function from the command line? (★☆☆) \n",
        "-->\n",
        "#### 5.  コマンドラインからの、numpy add 関数のドキュメントの取得方法は? (★☆☆) "
      ]
    },
    {
      "cell_type": "code",
      "execution_count": 8,
      "metadata": {
        "id": "a1BpXaeubIsD",
        "outputId": "7b63f615-f182-4b46-da75-26b4ce857447",
        "colab": {
          "base_uri": "https://localhost:8080/",
          "height": 159
        }
      },
      "outputs": [
        {
          "output_type": "execute_result",
          "data": {
            "application/json": {
              "cell": {
                "prun": "ExecutionMagics",
                "file": "Other",
                "!": "OSMagics",
                "capture": "ExecutionMagics",
                "timeit": "ExecutionMagics",
                "script": "ScriptMagics",
                "pypy": "Other",
                "system": "OSMagics",
                "perl": "Other",
                "html": "DisplayMagics",
                "bash": "Other",
                "shell": "Other",
                "HTML": "Other",
                "python": "Other",
                "SVG": "Other",
                "javascript": "DisplayMagics",
                "bigquery": "Other",
                "js": "DisplayMagics",
                "writefile": "OSMagics",
                "ruby": "Other",
                "python3": "Other",
                "python2": "Other",
                "latex": "DisplayMagics",
                "sx": "OSMagics",
                "svg": "DisplayMagics",
                "sh": "Other",
                "time": "ExecutionMagics",
                "debug": "ExecutionMagics"
              },
              "line": {
                "psource": "NamespaceMagics",
                "logstart": "LoggingMagics",
                "popd": "OSMagics",
                "tensorflow_version": "Other",
                "loadpy": "CodeMagics",
                "colors": "BasicMagics",
                "who_ls": "NamespaceMagics",
                "lf": "Other",
                "ll": "Other",
                "pprint": "BasicMagics",
                "lk": "Other",
                "ls": "Other",
                "save": "CodeMagics",
                "tb": "ExecutionMagics",
                "lx": "Other",
                "pylab": "PylabMagics",
                "killbgscripts": "ScriptMagics",
                "quickref": "BasicMagics",
                "magic": "BasicMagics",
                "dhist": "OSMagics",
                "edit": "KernelMagics",
                "logstop": "LoggingMagics",
                "gui": "BasicMagics",
                "prun": "ExecutionMagics",
                "debug": "ExecutionMagics",
                "page": "BasicMagics",
                "logstate": "LoggingMagics",
                "ed": "Other",
                "pushd": "OSMagics",
                "timeit": "ExecutionMagics",
                "set_env": "OSMagics",
                "rehashx": "OSMagics",
                "hist": "Other",
                "qtconsole": "KernelMagics",
                "rm": "Other",
                "dirs": "OSMagics",
                "run": "ExecutionMagics",
                "reset_selective": "NamespaceMagics",
                "pinfo2": "NamespaceMagics",
                "matplotlib": "PylabMagics",
                "unload_ext": "ExtensionMagics",
                "doctest_mode": "BasicMagics",
                "logoff": "LoggingMagics",
                "reload_ext": "ExtensionMagics",
                "pdb": "ExecutionMagics",
                "load": "CodeMagics",
                "lsmagic": "BasicMagics",
                "autosave": "KernelMagics",
                "cd": "OSMagics",
                "pastebin": "CodeMagics",
                "alias_magic": "BasicMagics",
                "cp": "Other",
                "autocall": "AutoMagics",
                "ldir": "Other",
                "bookmark": "OSMagics",
                "connect_info": "KernelMagics",
                "mkdir": "Other",
                "system": "OSMagics",
                "whos": "NamespaceMagics",
                "rmdir": "Other",
                "automagic": "AutoMagics",
                "store": "StoreMagics",
                "more": "KernelMagics",
                "shell": "Other",
                "pdef": "NamespaceMagics",
                "precision": "BasicMagics",
                "pinfo": "NamespaceMagics",
                "pwd": "OSMagics",
                "psearch": "NamespaceMagics",
                "reset": "NamespaceMagics",
                "recall": "HistoryMagics",
                "xdel": "NamespaceMagics",
                "xmode": "BasicMagics",
                "cat": "Other",
                "mv": "Other",
                "rerun": "HistoryMagics",
                "logon": "LoggingMagics",
                "history": "HistoryMagics",
                "pycat": "OSMagics",
                "pip": "Other",
                "unalias": "OSMagics",
                "env": "OSMagics",
                "load_ext": "ExtensionMagics",
                "config": "ConfigMagics",
                "profile": "BasicMagics",
                "pfile": "NamespaceMagics",
                "less": "KernelMagics",
                "who": "NamespaceMagics",
                "notebook": "BasicMagics",
                "man": "KernelMagics",
                "sx": "OSMagics",
                "macro": "ExecutionMagics",
                "clear": "KernelMagics",
                "alias": "OSMagics",
                "time": "ExecutionMagics",
                "sc": "OSMagics",
                "rep": "Other",
                "pdoc": "NamespaceMagics"
              }
            },
            "text/plain": [
              "Available line magics:\n",
              "%alias  %alias_magic  %autocall  %automagic  %autosave  %bookmark  %cat  %cd  %clear  %colors  %config  %connect_info  %cp  %debug  %dhist  %dirs  %doctest_mode  %ed  %edit  %env  %gui  %hist  %history  %killbgscripts  %ldir  %less  %lf  %lk  %ll  %load  %load_ext  %loadpy  %logoff  %logon  %logstart  %logstate  %logstop  %ls  %lsmagic  %lx  %macro  %magic  %man  %matplotlib  %mkdir  %more  %mv  %notebook  %page  %pastebin  %pdb  %pdef  %pdoc  %pfile  %pinfo  %pinfo2  %pip  %popd  %pprint  %precision  %profile  %prun  %psearch  %psource  %pushd  %pwd  %pycat  %pylab  %qtconsole  %quickref  %recall  %rehashx  %reload_ext  %rep  %rerun  %reset  %reset_selective  %rm  %rmdir  %run  %save  %sc  %set_env  %shell  %store  %sx  %system  %tb  %tensorflow_version  %time  %timeit  %unalias  %unload_ext  %who  %who_ls  %whos  %xdel  %xmode\n",
              "\n",
              "Available cell magics:\n",
              "%%!  %%HTML  %%SVG  %%bash  %%bigquery  %%capture  %%debug  %%file  %%html  %%javascript  %%js  %%latex  %%perl  %%prun  %%pypy  %%python  %%python2  %%python3  %%ruby  %%script  %%sh  %%shell  %%svg  %%sx  %%system  %%time  %%timeit  %%writefile\n",
              "\n",
              "Automagic is ON, % prefix IS NOT needed for line magics."
            ]
          },
          "metadata": {},
          "execution_count": 8
        }
      ],
      "source": [
        "# TODO 保留\n",
        "# %lsmagic numpy.add\n",
        "# %"
      ]
    },
    {
      "cell_type": "markdown",
      "metadata": {
        "id": "CM0pZmLjbIsE"
      },
      "source": [
        "<!--\n",
        "#### 6.  Create a null vector of size 10 but the fifth value which is 1 (★☆☆) \n",
        "-->\n",
        "#### 6.  5番目の値だけ 1 の大きさ 10 の零ベクトルを生成する (★☆☆) "
      ]
    },
    {
      "cell_type": "code",
      "execution_count": null,
      "metadata": {
        "id": "X45zPVovbIsE"
      },
      "outputs": [],
      "source": [
        ""
      ]
    },
    {
      "cell_type": "markdown",
      "metadata": {
        "id": "cvebdkDzbIsE"
      },
      "source": [
        "<!--\n",
        "#### 7.  Create a vector with values ranging from 10 to 49 (★☆☆) \n",
        "-->\n",
        "#### 7.  値の範囲が 10 から 49 であるようなベクトルを生成する (★☆☆) "
      ]
    },
    {
      "cell_type": "code",
      "execution_count": null,
      "metadata": {
        "id": "U8DRp_QXbIsF"
      },
      "outputs": [],
      "source": [
        ""
      ]
    },
    {
      "cell_type": "markdown",
      "metadata": {
        "id": "3AQ1ANMGbIsF"
      },
      "source": [
        "<!--\n",
        "#### 8.  Reverse a vector (first element becomes last) (★☆☆) \n",
        "-->\n",
        "#### 8.  ベクトルを逆転する (最初の要素が最後に) (★☆☆) "
      ]
    },
    {
      "cell_type": "code",
      "execution_count": null,
      "metadata": {
        "id": "Ru0U6tQUbIsF"
      },
      "outputs": [],
      "source": [
        ""
      ]
    },
    {
      "cell_type": "markdown",
      "metadata": {
        "id": "3D9Fst7VbIsG"
      },
      "source": [
        "<!--\n",
        "#### 9.  Create a 3x3 matrix with values ranging from 0 to 8 (★☆☆) \n",
        "-->\n",
        "#### 9.  値の範囲が 0 から 8 であるような 3x3 マトリクスを生成する (★☆☆) "
      ]
    },
    {
      "cell_type": "code",
      "execution_count": null,
      "metadata": {
        "id": "QQfQU9ekbIsG"
      },
      "outputs": [],
      "source": [
        ""
      ]
    },
    {
      "cell_type": "markdown",
      "metadata": {
        "id": "oekiHFugbIsG"
      },
      "source": [
        "<!--\n",
        "#### 10. Find indices of non-zero elements from \\[1,2,0,0,4,0\\] (★☆☆) \n",
        "-->\n",
        "#### 10. \\[1,2,0,0,4,0\\] からゼロでない要素の添え字を見つける (★☆☆) "
      ]
    },
    {
      "cell_type": "code",
      "execution_count": null,
      "metadata": {
        "id": "N8HwguTPbIsH"
      },
      "outputs": [],
      "source": [
        ""
      ]
    },
    {
      "cell_type": "markdown",
      "metadata": {
        "id": "WIrChpjCbIsH"
      },
      "source": [
        "<!--\n",
        "#### 11. Create a 3x3 identity matrix (★☆☆) \n",
        "-->\n",
        "#### 11. 3x3 の単位行列を生成する (★☆☆) "
      ]
    },
    {
      "cell_type": "code",
      "execution_count": null,
      "metadata": {
        "id": "VD0eGykCbIsH"
      },
      "outputs": [],
      "source": [
        ""
      ]
    },
    {
      "cell_type": "markdown",
      "metadata": {
        "id": "qVW2sQ8zbIsH"
      },
      "source": [
        "<!--\n",
        "#### 12. Create a 3x3x3 array with random values (★☆☆) \n",
        "-->\n",
        "#### 12. 乱数で 3x3x3 配列を生成する (★☆☆) "
      ]
    },
    {
      "cell_type": "code",
      "execution_count": null,
      "metadata": {
        "id": "EyXQ2HjabIsI"
      },
      "outputs": [],
      "source": [
        ""
      ]
    },
    {
      "cell_type": "markdown",
      "metadata": {
        "id": "yqavPAuTbIsI"
      },
      "source": [
        "<!--\n",
        "#### 13. Create a 10x10 array with random values and find the minimum and maximum values (★☆☆) \n",
        "-->\n",
        "#### 13. 乱数で 10x10 配列を生成して、その最小値と最大値を見つける (★☆☆) "
      ]
    },
    {
      "cell_type": "code",
      "execution_count": null,
      "metadata": {
        "id": "H4Glj2fwbIsI"
      },
      "outputs": [],
      "source": [
        ""
      ]
    },
    {
      "cell_type": "markdown",
      "metadata": {
        "id": "tyLHHn_LbIsI"
      },
      "source": [
        "<!--\n",
        "#### 14. Create a random vector of size 30 and find the mean value (★☆☆) \n",
        "-->\n",
        "#### 14. 大きさ 30 の乱数のベクトルを生成して、その平均を求める (★☆☆) "
      ]
    },
    {
      "cell_type": "code",
      "execution_count": null,
      "metadata": {
        "id": "gS98sQEMbIsI"
      },
      "outputs": [],
      "source": [
        ""
      ]
    },
    {
      "cell_type": "markdown",
      "metadata": {
        "id": "4LQV5NqnbIsI"
      },
      "source": [
        "<!--\n",
        "#### 15. Create a 2d array with 1 on the border and 0 inside (★☆☆) \n",
        "-->\n",
        "#### 15. 周囲が 1 で内部が 0 であるような2次元配列生成する (★☆☆) "
      ]
    },
    {
      "cell_type": "code",
      "execution_count": null,
      "metadata": {
        "id": "Gpfk3ejmbIsJ"
      },
      "outputs": [],
      "source": [
        ""
      ]
    },
    {
      "cell_type": "markdown",
      "metadata": {
        "id": "_9BKPSLfbIsJ"
      },
      "source": [
        "<!--\n",
        "#### 16. How to add a border (filled with 0's) around an existing array? (★☆☆) \n",
        "-->\n",
        "#### 16. 既存の配列の周囲を 0 で囲む方法は? (★☆☆) "
      ]
    },
    {
      "cell_type": "code",
      "execution_count": null,
      "metadata": {
        "id": "GmmUvqG_bIsJ"
      },
      "outputs": [],
      "source": [
        ""
      ]
    },
    {
      "cell_type": "markdown",
      "metadata": {
        "id": "6IMMOTCFbIsJ"
      },
      "source": [
        "<!--\n",
        "#### 17. What is the result of the following expression? (★☆☆) \n",
        "-->\n",
        "#### 17. 以下の式の結果は何か? (★☆☆) "
      ]
    },
    {
      "cell_type": "markdown",
      "metadata": {
        "id": "sJ9EuoTfbIsJ"
      },
      "source": [
        "```python\n",
        "0 * np.nan\n",
        "np.nan == np.nan\n",
        "np.inf > np.nan\n",
        "np.nan - np.nan\n",
        "0.3 == 3 * 0.1\n",
        "```"
      ]
    },
    {
      "cell_type": "code",
      "execution_count": null,
      "metadata": {
        "id": "RwWzFlPVbIsK"
      },
      "outputs": [],
      "source": [
        ""
      ]
    },
    {
      "cell_type": "markdown",
      "metadata": {
        "id": "rT4jskGvbIsK"
      },
      "source": [
        "<!--\n",
        "#### 18. Create a 5x5 matrix with values 1,2,3,4 just below the diagonal (★☆☆) \n",
        "-->\n",
        "#### 18. 対角成分の直下に 1,2,3,4 の成分を持つ 5x5 行列を生成する (★☆☆) "
      ]
    },
    {
      "cell_type": "code",
      "execution_count": null,
      "metadata": {
        "id": "olv8hHk9bIsK"
      },
      "outputs": [],
      "source": [
        ""
      ]
    },
    {
      "cell_type": "markdown",
      "metadata": {
        "id": "PKsXAKGWbIsK"
      },
      "source": [
        "<!--\n",
        "#### 19. Create a 8x8 matrix and fill it with a checkerboard pattern (★☆☆) \n",
        "-->\n",
        "#### 19.  8x8 行列を生成して、市松模様で埋める (★☆☆) "
      ]
    },
    {
      "cell_type": "code",
      "execution_count": null,
      "metadata": {
        "id": "tZFVkkG5bIsK"
      },
      "outputs": [],
      "source": [
        ""
      ]
    },
    {
      "cell_type": "markdown",
      "metadata": {
        "id": "crn72iwgbIsL"
      },
      "source": [
        "<!--\n",
        "#### 20. Consider a (6,7,8) shape array, what is the index (x,y,z) of the 100th element? \n",
        "-->\n",
        "#### 20. shape属性が (6,7,8) の配列のとき、100 番目の要素の添え字 (x,y,z)は？"
      ]
    },
    {
      "cell_type": "code",
      "execution_count": null,
      "metadata": {
        "id": "ff4hsv7gbIsL"
      },
      "outputs": [],
      "source": [
        ""
      ]
    },
    {
      "cell_type": "markdown",
      "metadata": {
        "id": "wF-U8B8qbIsL"
      },
      "source": [
        "<!--\n",
        "#### 21. Create a checkerboard 8x8 matrix using the tile function (★☆☆) \n",
        "-->\n",
        "#### 21. tile 関数を使って 8x8 の市松模様の行列を生成する (★☆☆) \n"
      ]
    },
    {
      "cell_type": "code",
      "execution_count": null,
      "metadata": {
        "id": "cwDTP6QybIsL"
      },
      "outputs": [],
      "source": [
        ""
      ]
    },
    {
      "cell_type": "markdown",
      "metadata": {
        "id": "fcjqMEAGbIsL"
      },
      "source": [
        "<!--\n",
        "#### 22. Normalize a 5x5 random matrix (★☆☆) \n",
        "-->\n",
        "#### 22. 5x5 の乱数の行列を正規化する (★☆☆) "
      ]
    },
    {
      "cell_type": "code",
      "execution_count": null,
      "metadata": {
        "id": "dhduRXI6bIsL"
      },
      "outputs": [],
      "source": [
        ""
      ]
    },
    {
      "cell_type": "markdown",
      "metadata": {
        "id": "ZwHFgFvLbIsM"
      },
      "source": [
        "<!--\n",
        "#### 23. Create a custom dtype that describes a color as four unsigned bytes (RGBA) (★☆☆) \n",
        "-->\n",
        "#### 23. 色を 4 個の符号なしバイト型 (RGBA) で表現するカスタム dtype を作成する (★☆☆) "
      ]
    },
    {
      "cell_type": "code",
      "execution_count": null,
      "metadata": {
        "id": "WEo8Q6NcbIsM"
      },
      "outputs": [],
      "source": [
        ""
      ]
    },
    {
      "cell_type": "markdown",
      "metadata": {
        "id": "y3O9IqBTbIsM"
      },
      "source": [
        "<!--\n",
        "#### 24. Multiply a 5x3 matrix by a 3x2 matrix (real matrix product) (★☆☆) \n",
        "-->\n",
        "#### 24. 5x3 行列と 3x2 行列の掛け算 (実数の行列積) (★☆☆) "
      ]
    },
    {
      "cell_type": "code",
      "execution_count": null,
      "metadata": {
        "id": "LUGtBe6YbIsM"
      },
      "outputs": [],
      "source": [
        ""
      ]
    },
    {
      "cell_type": "markdown",
      "metadata": {
        "id": "ji8iCjHAbIsM"
      },
      "source": [
        "<!--\n",
        "#### 25. Given a 1D array, negate all elements which are between 3 and 8, in place. (★☆☆) \n",
        "-->\n",
        "#### 25. 1次元配列が与えられたとき、３番目から８番目の全要素をネゲート(負値)する (★☆☆) "
      ]
    },
    {
      "cell_type": "code",
      "execution_count": null,
      "metadata": {
        "id": "NQ29HlkCbIsM"
      },
      "outputs": [],
      "source": [
        ""
      ]
    },
    {
      "cell_type": "markdown",
      "metadata": {
        "id": "JYUVp2AZbIsM"
      },
      "source": [
        "<!--\n",
        "#### 26. What is the output of the following script? (★☆☆) \n",
        "-->\n",
        "#### 26. 以下のスクリプトの出力は? (★☆☆) "
      ]
    },
    {
      "cell_type": "markdown",
      "metadata": {
        "id": "EEV3p8robIsN"
      },
      "source": [
        "```python\n",
        "# Author: Jake VanderPlas\n",
        "\n",
        "print(sum(range(5),-1))\n",
        "from numpy import *\n",
        "print(sum(range(5),-1))\n",
        "```"
      ]
    },
    {
      "cell_type": "code",
      "execution_count": null,
      "metadata": {
        "id": "E2fJNqWdbIsN"
      },
      "outputs": [],
      "source": [
        ""
      ]
    },
    {
      "cell_type": "markdown",
      "metadata": {
        "id": "Z9qyUa2LbIsN"
      },
      "source": [
        "<!--\n",
        "#### 27. Consider an integer vector Z, which of these expressions are legal? (★☆☆)\n",
        "-->\n",
        "#### 27. Z が整数型のベクトルのとき、これらの式のどれが適切か？ (★☆☆)"
      ]
    },
    {
      "cell_type": "markdown",
      "metadata": {
        "id": "otKGP0pwbIsN"
      },
      "source": [
        "```python\n",
        "Z**Z\n",
        "2 << Z >> 2\n",
        "Z <- Z\n",
        "1j*Z\n",
        "Z/1/1\n",
        "Z<Z>Z\n",
        "```"
      ]
    },
    {
      "cell_type": "code",
      "execution_count": null,
      "metadata": {
        "id": "g7wseWeybIsN"
      },
      "outputs": [],
      "source": [
        ""
      ]
    },
    {
      "cell_type": "markdown",
      "metadata": {
        "id": "J0TYNKVfbIsN"
      },
      "source": [
        "<!--\n",
        "#### 28. What are the result of the following expressions?\n",
        "-->\n",
        "#### 28. 以下の式の結果は何か?"
      ]
    },
    {
      "cell_type": "markdown",
      "metadata": {
        "id": "q4NIr69vbIsN"
      },
      "source": [
        "```python\n",
        "np.array(0) / np.array(0)\n",
        "np.array(0) // np.array(0)\n",
        "np.array([np.nan]).astype(int).astype(float)\n",
        "```"
      ]
    },
    {
      "cell_type": "code",
      "execution_count": null,
      "metadata": {
        "id": "wgez06DBbIsO"
      },
      "outputs": [],
      "source": [
        ""
      ]
    },
    {
      "cell_type": "markdown",
      "metadata": {
        "id": "-mSlHKgVbIsO"
      },
      "source": [
        "<!--\n",
        "#### 29. How to round away from zero a float array ? (★☆☆) \n",
        "-->\n",
        "#### 29. ゼロから遠くなるように浮動小数点型の配列の小数点を丸める方法は? (★☆☆) "
      ]
    },
    {
      "cell_type": "code",
      "execution_count": null,
      "metadata": {
        "id": "mTY5BxdcbIsO"
      },
      "outputs": [],
      "source": [
        ""
      ]
    },
    {
      "cell_type": "markdown",
      "metadata": {
        "id": "Ady5qdq0bIsO"
      },
      "source": [
        "<!--\n",
        "#### 30. How to find common values between two arrays? (★☆☆) \n",
        "-->\n",
        "#### 30. 2つの配列に共通する値の見つけ方は? (★☆☆) "
      ]
    },
    {
      "cell_type": "code",
      "execution_count": null,
      "metadata": {
        "id": "FDdxEr-vbIsO"
      },
      "outputs": [],
      "source": [
        ""
      ]
    },
    {
      "cell_type": "markdown",
      "metadata": {
        "id": "6O3HZzqtbIsO"
      },
      "source": [
        "<!--\n",
        "#### 31. How to ignore all numpy warnings (not recommended)? (★☆☆) \n",
        "-->\n",
        "#### 31. すべての numpy の警告を無視する方法は (非推奨)? (★☆☆) "
      ]
    },
    {
      "cell_type": "code",
      "execution_count": null,
      "metadata": {
        "id": "XdyPhoUFbIsO"
      },
      "outputs": [],
      "source": [
        ""
      ]
    },
    {
      "cell_type": "markdown",
      "metadata": {
        "id": "-R2Kf0gxbIsP"
      },
      "source": [
        "<!--\n",
        "#### 32. Is the following expressions true? (★☆☆) \n",
        "-->\n",
        "#### 32. 以下の式は正しいですか? (★☆☆) "
      ]
    },
    {
      "cell_type": "markdown",
      "metadata": {
        "id": "pdNmSAjFbIsP"
      },
      "source": [
        "```python\n",
        "np.sqrt(-1) == np.emath.sqrt(-1)\n",
        "```"
      ]
    },
    {
      "cell_type": "code",
      "execution_count": null,
      "metadata": {
        "id": "PxWRZUCDbIsP"
      },
      "outputs": [],
      "source": [
        ""
      ]
    },
    {
      "cell_type": "markdown",
      "metadata": {
        "id": "H47dV5t4bIsP"
      },
      "source": [
        "<!--\n",
        "#### 33. How to get the dates of yesterday, today and tomorrow? (★☆☆) \n",
        "-->\n",
        "#### 33. 昨日、今日、明日の日付の取得方法は? (★☆☆) "
      ]
    },
    {
      "cell_type": "code",
      "execution_count": null,
      "metadata": {
        "id": "vi9z2_gNbIsP"
      },
      "outputs": [],
      "source": [
        ""
      ]
    },
    {
      "cell_type": "markdown",
      "metadata": {
        "id": "B5l0sHkLbIsP"
      },
      "source": [
        "<!--\n",
        "#### 34. How to get all the dates corresponding to the month of July 2016? (★★☆) \n",
        "-->\n",
        "#### 34. 2016年7月のすべての日付の取得方法は? (★★☆) \n"
      ]
    },
    {
      "cell_type": "code",
      "execution_count": null,
      "metadata": {
        "id": "vIoFOnV5bIsP"
      },
      "outputs": [],
      "source": [
        ""
      ]
    },
    {
      "cell_type": "markdown",
      "metadata": {
        "id": "wGYsd1nQbIsQ"
      },
      "source": [
        "<!--\n",
        "#### 35. How to compute ((A+B)\\*(-A/2)) in place (without copy)? (★★☆) \n",
        "-->\n",
        "#### 35. ((A+B)\\*(-A/2)) の計算方法は (copyせずに)? (★★☆) "
      ]
    },
    {
      "cell_type": "code",
      "execution_count": null,
      "metadata": {
        "id": "xtv0YiP-bIsQ"
      },
      "outputs": [],
      "source": [
        ""
      ]
    },
    {
      "cell_type": "markdown",
      "metadata": {
        "id": "IddtQKsWbIsQ"
      },
      "source": [
        "<!--\n",
        "#### 36. Extract the integer part of a random array using 5 different methods (★★☆) \n",
        "-->\n",
        "#### 36. 乱数の配列から整数部分を抽出する5種類の方法は (★★☆) "
      ]
    },
    {
      "cell_type": "code",
      "execution_count": null,
      "metadata": {
        "id": "WMTYyIOKbIsQ"
      },
      "outputs": [],
      "source": [
        ""
      ]
    },
    {
      "cell_type": "markdown",
      "metadata": {
        "id": "zZ5ejpV5bIsQ"
      },
      "source": [
        "<!--\n",
        "#### 37. Create a 5x5 matrix with row values ranging from 0 to 4 (★★☆) \n",
        "-->\n",
        "#### 37. 行の値が 0 から 4 の 5x5 行列を生成する (★★☆) "
      ]
    },
    {
      "cell_type": "code",
      "execution_count": null,
      "metadata": {
        "id": "u5s6Vk92bIsQ"
      },
      "outputs": [],
      "source": [
        ""
      ]
    },
    {
      "cell_type": "markdown",
      "metadata": {
        "id": "UfjTRnc8bIsQ"
      },
      "source": [
        "<!--\n",
        "#### 38. Consider a generator function that generates 10 integers and use it to build an array (★☆☆) \n",
        "-->\n",
        "#### 38. 10個の整数を生成するジェネレータ関数があるとき、それを使って配列を生成する (★☆☆) "
      ]
    },
    {
      "cell_type": "code",
      "execution_count": null,
      "metadata": {
        "id": "i2tzli_ebIsR"
      },
      "outputs": [],
      "source": [
        ""
      ]
    },
    {
      "cell_type": "markdown",
      "metadata": {
        "id": "PcGsD-BobIsR"
      },
      "source": [
        "<!--\n",
        "#### 39. Create a vector of size 10 with values ranging from 0 to 1, both excluded (★★☆) \n",
        "-->\n",
        "#### 39. 0 から 1 の範囲の値を持つ大きさ 10 のベクトルを生成する (ただし、両端の 0 と 1 は含めない) (★★☆) "
      ]
    },
    {
      "cell_type": "code",
      "execution_count": null,
      "metadata": {
        "id": "E1aeFcSxbIsR"
      },
      "outputs": [],
      "source": [
        ""
      ]
    },
    {
      "cell_type": "markdown",
      "metadata": {
        "id": "oVnrKkilbIsR"
      },
      "source": [
        "<!--\n",
        "#### 40. Create a random vector of size 10 and sort it (★★☆) \n",
        "-->\n",
        "#### 40. 大きさが 10 の乱数を生成して、それを並びかえる (★★☆) "
      ]
    },
    {
      "cell_type": "code",
      "execution_count": null,
      "metadata": {
        "id": "_PvVUdoAbIsR"
      },
      "outputs": [],
      "source": [
        ""
      ]
    },
    {
      "cell_type": "markdown",
      "metadata": {
        "id": "QFZtpVJNbIsR"
      },
      "source": [
        "<!--\n",
        "#### 41. How to sum a small array faster than np.sum? (★★☆) \n",
        "-->\n",
        "#### 41. np.sumより高速に小さい配列を集計する方法は? (★★☆) "
      ]
    },
    {
      "cell_type": "code",
      "execution_count": null,
      "metadata": {
        "id": "hxTemLBSbIsR"
      },
      "outputs": [],
      "source": [
        ""
      ]
    },
    {
      "cell_type": "markdown",
      "metadata": {
        "id": "vRu-786cbIsS"
      },
      "source": [
        "<!--\n",
        "#### 42. Consider two random array A and B, check if they are equal (★★☆) \n",
        "-->\n",
        "#### 42. A と B の2つの乱数配列があるとき、それらが等しいかをチェックする (★★☆) "
      ]
    },
    {
      "cell_type": "code",
      "execution_count": null,
      "metadata": {
        "id": "imIfg28-bIsS"
      },
      "outputs": [],
      "source": [
        ""
      ]
    },
    {
      "cell_type": "markdown",
      "metadata": {
        "id": "pSnOCkJ4bIsS"
      },
      "source": [
        "<!--\n",
        "#### 43. Make an array immutable (read-only) (★★☆) \n",
        "-->\n",
        "#### 43. イミュータブル(読み取り専用)の配列を生成する (★★☆) "
      ]
    },
    {
      "cell_type": "code",
      "execution_count": null,
      "metadata": {
        "id": "J-Mbc6pRbIsS"
      },
      "outputs": [],
      "source": [
        ""
      ]
    },
    {
      "cell_type": "markdown",
      "metadata": {
        "id": "4CewPWxrbIsS"
      },
      "source": [
        "<!--\n",
        "#### 44. Consider a random 10x2 matrix representing cartesian coordinates, convert them to polar coordinates (★★☆) \n",
        "-->\n",
        "#### 44. 直交座標で 10x2 行列があるとき、それらを極座標に変換する (★★☆) "
      ]
    },
    {
      "cell_type": "code",
      "execution_count": null,
      "metadata": {
        "id": "N3W6VbI0bIsS"
      },
      "outputs": [],
      "source": [
        ""
      ]
    },
    {
      "cell_type": "markdown",
      "metadata": {
        "id": "n-pNzMV5bIsS"
      },
      "source": [
        "<!--\n",
        "#### 45. Create random vector of size 10 and replace the maximum value by 0 (★★☆) \n",
        "-->\n",
        "#### 45. 大きさ 10 の乱数のベクトルを生成して、その最大値を 0 に置き換える (★★☆) "
      ]
    },
    {
      "cell_type": "code",
      "execution_count": null,
      "metadata": {
        "id": "7OozCOfAbIsT"
      },
      "outputs": [],
      "source": [
        ""
      ]
    },
    {
      "cell_type": "markdown",
      "metadata": {
        "id": "16zHDZtobIsT"
      },
      "source": [
        "<!--\n",
        "#### 46. Create a structured array with `x` and `y` coordinates covering the \\[0,1\\]x\\[0,1\\] area (★★☆) \n",
        "-->\n",
        "#### 46. \\[0,1\\]x\\[0,1\\] 領域を網羅する `x` 座標と `y` 座標を持つ構造化配列を生成する (★★☆) "
      ]
    },
    {
      "cell_type": "code",
      "execution_count": null,
      "metadata": {
        "id": "XT7Rx_n3bIsT"
      },
      "outputs": [],
      "source": [
        ""
      ]
    },
    {
      "cell_type": "markdown",
      "metadata": {
        "id": "b28bb8scbIsT"
      },
      "source": [
        "<!--\n",
        "####  47. Given two arrays, X and Y, construct the Cauchy matrix C (Cij =1/(xi - yj)) \n",
        "-->\n",
        "####  47. 2つの配列 X と Y が与えられたとき、コーシー行列 C (Cij =1/(xi - yj)) を作成する "
      ]
    },
    {
      "cell_type": "code",
      "execution_count": null,
      "metadata": {
        "id": "OBmVTMecbIsT"
      },
      "outputs": [],
      "source": [
        ""
      ]
    },
    {
      "cell_type": "markdown",
      "metadata": {
        "id": "mu_BsR8SbIsT"
      },
      "source": [
        "<!--\n",
        "#### 48. Print the minimum and maximum representable value for each numpy scalar type (★★☆) \n",
        "-->\n",
        "#### 48. numpy スカラー型のそれぞれについて、表現可能な最小値と最大値を表示する (★★☆) "
      ]
    },
    {
      "cell_type": "code",
      "execution_count": null,
      "metadata": {
        "id": "1XUOrZYybIsT"
      },
      "outputs": [],
      "source": [
        ""
      ]
    },
    {
      "cell_type": "markdown",
      "metadata": {
        "id": "YfBTlo5rbIsU"
      },
      "source": [
        "<!--\n",
        "#### 49. How to print all the values of an array? (★★☆) \n",
        "-->\n",
        "#### 49. 配列のすべての値を表示する方法は? (★★☆) "
      ]
    },
    {
      "cell_type": "code",
      "execution_count": null,
      "metadata": {
        "id": "lGFYXurFbIsU"
      },
      "outputs": [],
      "source": [
        ""
      ]
    },
    {
      "cell_type": "markdown",
      "metadata": {
        "id": "lOR3s5RdbIsU"
      },
      "source": [
        "<!--\n",
        "#### 50. How to find the closest value (to a given scalar) in a vector? (★★☆) \n",
        "-->\n",
        "#### 50. ベクトルの中で指定したスカラーに最も近い値を見つける方法は? (★★☆) "
      ]
    },
    {
      "cell_type": "code",
      "execution_count": null,
      "metadata": {
        "id": "WJul6vG-bIsU"
      },
      "outputs": [],
      "source": [
        ""
      ]
    },
    {
      "cell_type": "markdown",
      "metadata": {
        "id": "nY1mWJhRbIsU"
      },
      "source": [
        "<!--\n",
        "#### 51. Create a structured array representing a position (x,y) and a color (r,g,b) (★★☆) \n",
        "-->\n",
        "#### 51. 位置 (x,y) と 色 (r,g,b) を表現する構造化配列を生成する (★★☆) "
      ]
    },
    {
      "cell_type": "code",
      "execution_count": null,
      "metadata": {
        "id": "EUWA9T6IbIsU"
      },
      "outputs": [],
      "source": [
        ""
      ]
    },
    {
      "cell_type": "markdown",
      "metadata": {
        "id": "A4gW7RSGbIsV"
      },
      "source": [
        "<!--\n",
        "#### 52. Consider a random vector with shape (100,2) representing coordinates, find point by point distances (★★☆) \n",
        "-->\n",
        "#### 52. shape属性が (100,2) の座標を表現する乱数のベクトルがあるとき、各点ごとの距離を求める (★★☆) "
      ]
    },
    {
      "cell_type": "code",
      "execution_count": null,
      "metadata": {
        "id": "vCZv-QwKbIsV"
      },
      "outputs": [],
      "source": [
        ""
      ]
    },
    {
      "cell_type": "markdown",
      "metadata": {
        "id": "UExv-pVsbIsV"
      },
      "source": [
        "<!--\n",
        "#### 53. How to convert a float (32 bits) array into an integer (32 bits) in place? \n",
        "-->\n",
        "#### 53. 浮動小数点 (32 bits) 配列を整数型 (32 bits) 配列に変換する方法は? "
      ]
    },
    {
      "cell_type": "code",
      "execution_count": null,
      "metadata": {
        "id": "TU_Jh19fbIsV"
      },
      "outputs": [],
      "source": [
        ""
      ]
    },
    {
      "cell_type": "markdown",
      "metadata": {
        "id": "_ugf_F18bIsV"
      },
      "source": [
        "<!--\n",
        "#### 54. How to read the following file? (★★☆) \n",
        "-->\n",
        "#### 54. 以下のファイルを読む方法は? (★★☆) "
      ]
    },
    {
      "cell_type": "markdown",
      "metadata": {
        "id": "6swkN5BybIsV"
      },
      "source": [
        "```\n",
        "1, 2, 3, 4, 5\n",
        "6,  ,  , 7, 8\n",
        " ,  , 9,10,11\n",
        "```"
      ]
    },
    {
      "cell_type": "code",
      "execution_count": null,
      "metadata": {
        "id": "rO6wUXeabIsW"
      },
      "outputs": [],
      "source": [
        ""
      ]
    },
    {
      "cell_type": "markdown",
      "metadata": {
        "id": "25Oo_Y0AbIsW"
      },
      "source": [
        "<!--\n",
        "#### 55. What is the equivalent of enumerate for numpy arrays? (★★☆) \n",
        "-->\n",
        "#### 55. numpy 配列で enumerate に相当するものは何ですか?"
      ]
    },
    {
      "cell_type": "code",
      "execution_count": null,
      "metadata": {
        "id": "wL6gSFzWbIsW"
      },
      "outputs": [],
      "source": [
        ""
      ]
    },
    {
      "cell_type": "markdown",
      "metadata": {
        "id": "p7e-zWgNbIsW"
      },
      "source": [
        "<!--\n",
        "#### 56. Generate a generic 2D Gaussian-like array (★★☆) \n",
        "-->\n",
        "#### 56. 一般的な2次元正規分布の配列を生成する (★★☆) "
      ]
    },
    {
      "cell_type": "code",
      "execution_count": null,
      "metadata": {
        "id": "Kp7h4CLDbIsW"
      },
      "outputs": [],
      "source": [
        ""
      ]
    },
    {
      "cell_type": "markdown",
      "metadata": {
        "id": "Rq1DMhc7bIsW"
      },
      "source": [
        "<!--\n",
        "#### 57. How to randomly place p elements in a 2D array? (★★☆) \n",
        "-->\n",
        "#### 57. 2次元配列中に p 個の要素をランダムに配置する方法は? (★★☆) "
      ]
    },
    {
      "cell_type": "code",
      "execution_count": null,
      "metadata": {
        "id": "pScKqLeHbIsW"
      },
      "outputs": [],
      "source": [
        ""
      ]
    },
    {
      "cell_type": "markdown",
      "metadata": {
        "id": "-CIl599lbIsX"
      },
      "source": [
        "<!--\n",
        "#### 58. Subtract the mean of each row of a matrix (★★☆) \n",
        "-->\n",
        "#### 58. 行列の各行からその平均を減算する (★★☆) "
      ]
    },
    {
      "cell_type": "code",
      "execution_count": null,
      "metadata": {
        "id": "8JdSAzLAbIsX"
      },
      "outputs": [],
      "source": [
        ""
      ]
    },
    {
      "cell_type": "markdown",
      "metadata": {
        "id": "-1O7mHtRbIsX"
      },
      "source": [
        "<!--\n",
        "#### 59. How to sort an array by the nth column? (★★☆) \n",
        "-->\n",
        "#### 59. 配列を n 番目の列でソートする方法は? (★★☆) "
      ]
    },
    {
      "cell_type": "code",
      "execution_count": null,
      "metadata": {
        "id": "RdJ0jG4KbIsX"
      },
      "outputs": [],
      "source": [
        ""
      ]
    },
    {
      "cell_type": "markdown",
      "metadata": {
        "id": "It3Zzru9bIsX"
      },
      "source": [
        "<!--\n",
        "#### 60. How to tell if a given 2D array has null columns? (★★☆) \n",
        "-->\n",
        "#### 60. 与えられた2次元配列に null の列があるかを調べる方法は? (★★☆) "
      ]
    },
    {
      "cell_type": "code",
      "execution_count": null,
      "metadata": {
        "id": "Ac9A_fDQbIsX"
      },
      "outputs": [],
      "source": [
        ""
      ]
    },
    {
      "cell_type": "markdown",
      "metadata": {
        "id": "53vR82nIbIsX"
      },
      "source": [
        "<!--\n",
        "#### 61. Find the nearest value from a given value in an array (★★☆) \n",
        "-->\n",
        "#### 61.  与えられた値から最も近い値を配列の中に見つける (★★☆) "
      ]
    },
    {
      "cell_type": "code",
      "execution_count": null,
      "metadata": {
        "id": "GV2ChML7bIsY"
      },
      "outputs": [],
      "source": [
        ""
      ]
    },
    {
      "cell_type": "markdown",
      "metadata": {
        "id": "tsD90kNfbIsb"
      },
      "source": [
        "<!--\n",
        "#### 62. Considering two arrays with shape (1,3) and (3,1), how to compute their sum using an iterator? (★★☆) \n",
        "-->\n",
        "#### 62. shape属性が (1,3) と (3,1) の2つの配列があるとき、イテレータを使ってその和を計算する方法は? (★★☆) "
      ]
    },
    {
      "cell_type": "code",
      "execution_count": null,
      "metadata": {
        "id": "89X6xOkWbIsb"
      },
      "outputs": [],
      "source": [
        ""
      ]
    },
    {
      "cell_type": "markdown",
      "metadata": {
        "id": "7ATYk2gjbIsb"
      },
      "source": [
        "<!--\n",
        "#### 63. Create an array class that has a name attribute (★★☆) \n",
        "-->\n",
        "#### 63. name属性を持つ配列クラスを作成する (★★☆) "
      ]
    },
    {
      "cell_type": "code",
      "execution_count": null,
      "metadata": {
        "id": "5dPGs6g5bIsc"
      },
      "outputs": [],
      "source": [
        ""
      ]
    },
    {
      "cell_type": "markdown",
      "metadata": {
        "id": "4VdGTGHjbIsc"
      },
      "source": [
        "<!--\n",
        "#### 64. Consider a given vector, how to add 1 to each element indexed by a second vector (be careful with repeated indices)? (★★★) \n",
        "-->\n",
        "#### 64. あるベクトルが与えられたとき、第2のベクトルにより添え字指定されたそれぞれの要素に 1 を加える方法は (添え字は繰り返されることに注意)? (★★★) "
      ]
    },
    {
      "cell_type": "code",
      "execution_count": null,
      "metadata": {
        "id": "_e37-DWcbIsc"
      },
      "outputs": [],
      "source": [
        ""
      ]
    },
    {
      "cell_type": "markdown",
      "metadata": {
        "id": "eU3mCO1RbIsc"
      },
      "source": [
        "<!--\n",
        "#### 65. How to accumulate elements of a vector (X) to an array (F) based on an index list (I)? (★★★) \n",
        "-->\n",
        "#### 65. 添え字リスト (I) に基づきベクトル (X) の要素を配列 (F) に累積する方法は? (★★★) "
      ]
    },
    {
      "cell_type": "code",
      "execution_count": null,
      "metadata": {
        "id": "KlJM8YGZbIsc"
      },
      "outputs": [],
      "source": [
        ""
      ]
    },
    {
      "cell_type": "markdown",
      "metadata": {
        "id": "yP_uoBvRbIsc"
      },
      "source": [
        "<!--\n",
        "#### 66. Considering a (w,h,3) image of (dtype=ubyte), compute the number of unique colors (★★★) \n",
        "-->\n",
        "#### 66. 画像が (w, h, 3) (dtype=ubyte) のとき、ユニークな色の数を計算する(★★★) "
      ]
    },
    {
      "cell_type": "code",
      "execution_count": null,
      "metadata": {
        "id": "Txdm3s4ybIsc"
      },
      "outputs": [],
      "source": [
        ""
      ]
    },
    {
      "cell_type": "markdown",
      "metadata": {
        "id": "4sGszjGBbIsd"
      },
      "source": [
        "<!--\n",
        "#### 67. Considering a four dimensions array, how to get sum over the last two axis at once? (★★★) \n",
        "-->\n",
        "#### 67. 4次元配列のとき、一気に最後の2軸で合計する方法は? (★★★) "
      ]
    },
    {
      "cell_type": "code",
      "execution_count": null,
      "metadata": {
        "id": "UfNoJl_jbIsd"
      },
      "outputs": [],
      "source": [
        ""
      ]
    },
    {
      "cell_type": "markdown",
      "metadata": {
        "id": "7mbPOT0-bIsd"
      },
      "source": [
        "<!--\n",
        "#### 68. Considering a one-dimensional vector D, how to compute means of subsets of D using a vector S of same size describing subset indices? (★★★) \n",
        "-->\n",
        "#### 68. 1次元ベクトル D を考えたとき、部分集合を添え字で記述する同じサイズのベクトル S を使用して、D の部分集合の平均を計算する方法は？"
      ]
    },
    {
      "cell_type": "code",
      "execution_count": null,
      "metadata": {
        "id": "duf3nupSbIsd"
      },
      "outputs": [],
      "source": [
        ""
      ]
    },
    {
      "cell_type": "markdown",
      "metadata": {
        "id": "QSaNY6HPbIsd"
      },
      "source": [
        "<!--\n",
        "#### 69. How to get the diagonal of a dot product? (★★★) \n",
        "-->\n",
        "#### 69. ドット積の対角要素を取得する方法は? (★★★) "
      ]
    },
    {
      "cell_type": "code",
      "execution_count": null,
      "metadata": {
        "id": "XbyMe7v0bIsd"
      },
      "outputs": [],
      "source": [
        ""
      ]
    },
    {
      "cell_type": "markdown",
      "metadata": {
        "id": "pISY30aabIse"
      },
      "source": [
        "<!--\n",
        "#### 70. Consider the vector \\[1, 2, 3, 4, 5\\], how to build a new vector with 3 consecutive zeros interleaved between each value? (★★★) \n",
        "-->\n",
        "#### 70. ベクトル \\[1, 2, 3, 4, 5\\] があるとき、それぞれの値の間に連続する3つのゼロをはさむ新しいベクトルを生成する方法は? (★★★) "
      ]
    },
    {
      "cell_type": "code",
      "execution_count": null,
      "metadata": {
        "id": "MiQyngAmbIse"
      },
      "outputs": [],
      "source": [
        ""
      ]
    },
    {
      "cell_type": "markdown",
      "metadata": {
        "id": "gKIO-hnbbIse"
      },
      "source": [
        "<!--\n",
        "#### 71. Consider an array of dimension (5,5,3), how to mulitply it by an array with dimensions (5,5)? (★★★) \n",
        "-->\n",
        "#### 71. (5,5,3) 次元の配列があるとき、それに (5,5) 次元の配列を掛ける方法は? (★★★) "
      ]
    },
    {
      "cell_type": "code",
      "execution_count": null,
      "metadata": {
        "id": "VDRQjTDobIse"
      },
      "outputs": [],
      "source": [
        ""
      ]
    },
    {
      "cell_type": "markdown",
      "metadata": {
        "id": "3Pv2vh5QbIse"
      },
      "source": [
        "<!--\n",
        "#### 72. How to swap two rows of an array? (★★★) \n",
        "-->\n",
        "#### 72. 配列の2つの行を交換する方法は? (★★★) "
      ]
    },
    {
      "cell_type": "code",
      "execution_count": null,
      "metadata": {
        "id": "UePLFo5_bIse"
      },
      "outputs": [],
      "source": [
        ""
      ]
    },
    {
      "cell_type": "markdown",
      "metadata": {
        "id": "t5bnwhVlbIsf"
      },
      "source": [
        "<!--\n",
        "#### 73. Consider a set of 10 triplets describing 10 triangles (with shared vertices), find the set of unique line segments composing all the  triangles (★★★) \n",
        "-->\n",
        "#### 73. 10個の三角形を記述する10個の三つ組みがあるとき (共有された頂点を持つ) 、すべての三角形を構成するユニークな線分の集合を見つける (★★★) "
      ]
    },
    {
      "cell_type": "code",
      "execution_count": null,
      "metadata": {
        "id": "D56LtMVpbIsf"
      },
      "outputs": [],
      "source": [
        ""
      ]
    },
    {
      "cell_type": "markdown",
      "metadata": {
        "id": "zZpGdr04bIsf"
      },
      "source": [
        "<!--\n",
        "#### 74. Given an array C that is a bincount, how to produce an array A such that np.bincount(A) == C? (★★★) \n",
        "-->\n",
        "#### 74. bincountで与えられる配列 C があるとき、np.bincount(A) == C であるような配列 A の生成方法は? (★★★) "
      ]
    },
    {
      "cell_type": "code",
      "execution_count": null,
      "metadata": {
        "id": "yc_TdekObIsf"
      },
      "outputs": [],
      "source": [
        ""
      ]
    },
    {
      "cell_type": "markdown",
      "metadata": {
        "id": "ctECrZVkbIsf"
      },
      "source": [
        "<!--\n",
        "#### 75. How to compute averages using a sliding window over an array? (★★★) \n",
        "-->\n",
        "#### 75. 配列にスライドウィンドウを使って平均を計算する方法は? (★★★) "
      ]
    },
    {
      "cell_type": "code",
      "execution_count": null,
      "metadata": {
        "id": "uuJzNlKCbIsf"
      },
      "outputs": [],
      "source": [
        ""
      ]
    },
    {
      "cell_type": "markdown",
      "metadata": {
        "id": "Y1I1ha41bIsg"
      },
      "source": [
        "<!--\n",
        "#### 76. Consider a one-dimensional array Z, build a two-dimensional array whose first row is (Z\\[0\\],Z\\[1\\],Z\\[2\\]) and each subsequent row is  shifted by 1 (last row should be (Z\\[-3\\],Z\\[-2\\],Z\\[-1\\]) (★★★) \n",
        "-->\n",
        "#### 76. 1次元の配列 Z があるとき、最初の行が (Z\\[0\\],Z\\[1\\],Z\\[2\\]) で、それに続く行はそれぞれ 1 だけシフトされた2次元配列を生成する (最後の行は、(Z\\[-3\\],Z\\[-2\\],Z\\[-1\\]) になる) (★★★) "
      ]
    },
    {
      "cell_type": "code",
      "execution_count": null,
      "metadata": {
        "id": "h0ajspmRbIsg"
      },
      "outputs": [],
      "source": [
        ""
      ]
    },
    {
      "cell_type": "markdown",
      "metadata": {
        "id": "7v4NXwilbIsg"
      },
      "source": [
        "<!--\n",
        "#### 77. How to negate a boolean, or to change the sign of a float inplace? (★★★) \n",
        "-->\n",
        "#### 77. ブール値を否定する方法、また、浮動小数点の符号を変更する方法は? (★★★) "
      ]
    },
    {
      "cell_type": "code",
      "execution_count": null,
      "metadata": {
        "scrolled": true,
        "id": "8hwLaS_5bIsg"
      },
      "outputs": [],
      "source": [
        ""
      ]
    },
    {
      "cell_type": "markdown",
      "metadata": {
        "id": "GlAYIfYvbIsg"
      },
      "source": [
        "<!--\n",
        "#### 78. Consider 2 sets of points P0,P1 describing lines (2d) and a point p, how to compute distance from p to each line i  (P0\\[i\\],P1\\[i\\])? (★★★)\n",
        "-->\n",
        "#### 78. 直線 (2次元) を記述する2組の点 P0、P1そして点 p があるとき、点 p から直線 i (P0\\[i\\],P1\\[i\\]) までの距離を計算する方法は? (★★★)"
      ]
    },
    {
      "cell_type": "code",
      "execution_count": null,
      "metadata": {
        "id": "CnlFOuMTbIsg"
      },
      "outputs": [],
      "source": [
        ""
      ]
    },
    {
      "cell_type": "markdown",
      "metadata": {
        "id": "qfrubZo7bIsg"
      },
      "source": [
        "<!--\n",
        "#### 79. Consider 2 sets of points P0,P1 describing lines (2d) and a set of points P, how to compute distance from each point j (P\\[j\\]) to each line i (P0\\[i\\],P1\\[i\\])? (★★★)\n",
        "-->\n",
        "#### 79. 直線 (2次元) を記述する2組の点 P0、P1 そして1組の点 P があるとき、それぞれの点 (P\\[j\\]) から各線 i (P0\\[i\\],P1\\[i\\]) までの距離を計算する方法は? (★★★)"
      ]
    },
    {
      "cell_type": "code",
      "execution_count": null,
      "metadata": {
        "id": "YLo_rMvPbIsh"
      },
      "outputs": [],
      "source": [
        ""
      ]
    },
    {
      "cell_type": "markdown",
      "metadata": {
        "id": "I9mO4PCIbIsh"
      },
      "source": [
        "<!--\n",
        "#### 80. Consider an arbitrary array, write a function that extract a subpart with a fixed shape and centered on a given element (pad with a `fill` value when necessary) (★★★) \n",
        "-->\n",
        "#### 80. 任意の配列に対して、定められたshape属性で、指定された要素が中央に配置されるような一部分を抽出する関数を書く（必要に応じて `fill` 値でパディング） (★★★) "
      ]
    },
    {
      "cell_type": "code",
      "execution_count": null,
      "metadata": {
        "id": "PQS1mhRwbIsh"
      },
      "outputs": [],
      "source": [
        ""
      ]
    },
    {
      "cell_type": "markdown",
      "metadata": {
        "id": "Iz0zMWSYbIsh"
      },
      "source": [
        "<!--\n",
        "#### 81. Consider an array Z = \\[1,2,3,4,5,6,7,8,9,10,11,12,13,14\\], how to generate an array R = \\[\\[1,2,3,4\\], \\[2,3,4,5\\], \\[3,4,5,6\\], ..., \\[11,12,13,14\\]\\]? (★★★) \n",
        "-->\n",
        "#### 81. 配列 Z = \\[1,2,3,4,5,6,7,8,9,10,11,12,13,14\\] があるとき、配列 R = \\[\\[1,2,3,4\\], \\[2,3,4,5\\], \\[3,4,5,6\\], ..., \\[11,12,13,14\\]\\] の生成方法は? (★★★) "
      ]
    },
    {
      "cell_type": "code",
      "execution_count": null,
      "metadata": {
        "id": "pefqNRjSbIsh"
      },
      "outputs": [],
      "source": [
        ""
      ]
    },
    {
      "cell_type": "markdown",
      "metadata": {
        "id": "zGSIp3jsbIsh"
      },
      "source": [
        "<!--\n",
        "#### 82. Compute a matrix rank (★★★) \n",
        "-->\n",
        "#### 82. 行列のランク計算 (★★★) "
      ]
    },
    {
      "cell_type": "code",
      "execution_count": null,
      "metadata": {
        "id": "xx4PX3hQbIsi"
      },
      "outputs": [],
      "source": [
        ""
      ]
    },
    {
      "cell_type": "markdown",
      "metadata": {
        "id": "dP0PYKwgbIsi"
      },
      "source": [
        "<!--\n",
        "#### 83. How to find the most frequent value in an array? \n",
        "-->\n",
        "#### 83. 配列の中での最頻値の求め方は? "
      ]
    },
    {
      "cell_type": "code",
      "execution_count": null,
      "metadata": {
        "id": "-4fqZcsnbIsi"
      },
      "outputs": [],
      "source": [
        ""
      ]
    },
    {
      "cell_type": "markdown",
      "metadata": {
        "id": "T4PjfHm2bIsi"
      },
      "source": [
        "<!--\n",
        "#### 84. Extract all the contiguous 3x3 blocks from a random 10x10 matrix (★★★) \n",
        "-->\n",
        "#### 84. 10x10 の乱数の行列から隣接するすべての 3x3 ブロックを抽出する (★★★) "
      ]
    },
    {
      "cell_type": "code",
      "execution_count": null,
      "metadata": {
        "id": "SfreCIc1bIsi"
      },
      "outputs": [],
      "source": [
        ""
      ]
    },
    {
      "cell_type": "markdown",
      "metadata": {
        "id": "S5XKxZ_FbIsi"
      },
      "source": [
        "<!--\n",
        "#### 85. Create a 2D array subclass such that Z\\[i,j\\] == Z\\[j,i\\] (★★★) \n",
        "-->\n",
        "#### 85. Z\\[i,j\\] == Z\\[j,i\\] となるような2次元配列のサブクラスを作成する (★★★) "
      ]
    },
    {
      "cell_type": "code",
      "execution_count": null,
      "metadata": {
        "id": "53EpEKzubIsi"
      },
      "outputs": [],
      "source": [
        ""
      ]
    },
    {
      "cell_type": "markdown",
      "metadata": {
        "id": "6rcNkwQFbIsj"
      },
      "source": [
        "<!--\n",
        "#### 86. Consider a set of p matrices wich shape (n,n) and a set of p vectors with shape (n,1). How to compute the sum of of the p matrix products at once? (result has shape (n,1)) (★★★) \n",
        "-->\n",
        "#### 86. p 個の shape属性 (n,n) の行列と p 個の shape属性 (n,1) のベクトルがあるとき、一度に p 個の行列積の総和を計算する方法は? (結果は shape属性が (n,1)) (★★★) "
      ]
    },
    {
      "cell_type": "code",
      "execution_count": null,
      "metadata": {
        "id": "4voM4uo7bIsj"
      },
      "outputs": [],
      "source": [
        ""
      ]
    },
    {
      "cell_type": "markdown",
      "metadata": {
        "id": "qIaBu77QbIsj"
      },
      "source": [
        "<!--\n",
        "#### 87. Consider a 16x16 array, how to get the block-sum (block size is 4x4)? (★★★) \n",
        "-->\n",
        "#### 87. 16x16 の配列があるとき、ブロック合計 (ブロック・サイズは 4x4 ) の取得方法は? (★★★) "
      ]
    },
    {
      "cell_type": "code",
      "execution_count": null,
      "metadata": {
        "id": "NltFqABxbIsj"
      },
      "outputs": [],
      "source": [
        ""
      ]
    },
    {
      "cell_type": "markdown",
      "metadata": {
        "id": "oxunOfhnbIsj"
      },
      "source": [
        "<!--\n",
        "#### 88. How to implement the Game of Life using numpy arrays? (★★★)\n",
        "-->\n",
        "#### 88. numpy 配列を使ったライフゲームの実装方法は? (★★★)"
      ]
    },
    {
      "cell_type": "code",
      "execution_count": null,
      "metadata": {
        "id": "CW_5IQTRbIsj"
      },
      "outputs": [],
      "source": [
        ""
      ]
    },
    {
      "cell_type": "markdown",
      "metadata": {
        "id": "ubNX53WHbIsj"
      },
      "source": [
        "<!--\n",
        "#### 89. How to get the n largest values of an array (★★★) \n",
        "-->\n",
        "#### 89. 配列の n 個の最大値の取得方法は (★★★) "
      ]
    },
    {
      "cell_type": "code",
      "execution_count": null,
      "metadata": {
        "id": "S51hbtV7bIsk"
      },
      "outputs": [],
      "source": [
        ""
      ]
    },
    {
      "cell_type": "markdown",
      "metadata": {
        "id": "m3Ecd9LvbIsk"
      },
      "source": [
        "<!--\n",
        "#### 90. Given an arbitrary number of vectors, build the cartesian product (every combinations of every item) (★★★) \n",
        "-->\n",
        "#### 90. 任意の数のベクトルがあるとき、そのデカルト積を生成する (すべての要素のすべての組み合わせ) (★★★) "
      ]
    },
    {
      "cell_type": "code",
      "execution_count": null,
      "metadata": {
        "scrolled": true,
        "id": "Tf0MRkSfbIsk"
      },
      "outputs": [],
      "source": [
        ""
      ]
    },
    {
      "cell_type": "markdown",
      "metadata": {
        "id": "7mYPjF1kbIsk"
      },
      "source": [
        "<!--\n",
        "#### 91. How to create a record array from a regular array? (★★★) \n",
        "-->\n",
        "#### 91. 普通の配列からレコード配列の生成方法は? (★★★) "
      ]
    },
    {
      "cell_type": "code",
      "execution_count": null,
      "metadata": {
        "id": "VDvPLxmabIsk"
      },
      "outputs": [],
      "source": [
        ""
      ]
    },
    {
      "cell_type": "markdown",
      "metadata": {
        "id": "CA7hJV7XbIsk"
      },
      "source": [
        "<!--\n",
        "#### 92. Consider a large vector Z, compute Z to the power of 3 using 3 different methods (★★★) \n",
        "-->\n",
        "#### 92. 大きなベクトル Z があるとき、異なる3つの方法で Z の3乗を計算する (★★★) "
      ]
    },
    {
      "cell_type": "code",
      "execution_count": null,
      "metadata": {
        "id": "UwV20tkcbIsk"
      },
      "outputs": [],
      "source": [
        ""
      ]
    },
    {
      "cell_type": "markdown",
      "metadata": {
        "id": "LURsLTFsbIsl"
      },
      "source": [
        "<!--\n",
        "#### 93. Consider two arrays A and B of shape (8,3) and (2,2). How to find rows of A that contain elements of each row of B regardless of the order of the elements in B? (★★★) \n",
        "-->\n",
        "#### 93. ２つの配列 A と Ｂ、shape属性 (8,3) と (2,2) があるとき、B の要素の順序によらず、B の各行の要素を含む A の行を見つける方法は？ (★★★) "
      ]
    },
    {
      "cell_type": "code",
      "execution_count": null,
      "metadata": {
        "id": "zqk0BrGDbIsl"
      },
      "outputs": [],
      "source": [
        ""
      ]
    },
    {
      "cell_type": "markdown",
      "metadata": {
        "id": "X9hYYNhObIsl"
      },
      "source": [
        "<!--\n",
        "#### 94. Considering a 10x3 matrix, extract rows with unequal values (e.g. \\[2,2,3\\]) (★★★)\n",
        "-->\n",
        "#### 94. 10x3 行列があるとき、等しくない値を持つ行を抽出する (例 \\[2,2,3\\]) (★★★)"
      ]
    },
    {
      "cell_type": "code",
      "execution_count": null,
      "metadata": {
        "id": "Gwxr6PQMbIsl"
      },
      "outputs": [],
      "source": [
        ""
      ]
    },
    {
      "cell_type": "markdown",
      "metadata": {
        "id": "bRzCaLwhbIsl"
      },
      "source": [
        "<!--\n",
        "#### 95. Convert a vector of ints into a matrix binary representation (★★★) \n",
        "-->\n",
        "#### 95. 整数型のベクトルを2進数表示の行列に変換する (★★★) "
      ]
    },
    {
      "cell_type": "code",
      "execution_count": null,
      "metadata": {
        "id": "rXZO_e73bIsl"
      },
      "outputs": [],
      "source": [
        ""
      ]
    },
    {
      "cell_type": "markdown",
      "metadata": {
        "id": "iPsev3_KbIsl"
      },
      "source": [
        "<!--\n",
        "#### 96. Given a two dimensional array, how to extract unique rows? (★★★) \n",
        "-->\n",
        "#### 96. 2次元配列が与えられたとき、ユニークな行を抽出する方法は? (★★★) "
      ]
    },
    {
      "cell_type": "code",
      "execution_count": null,
      "metadata": {
        "id": "4fkabx46bIsm"
      },
      "outputs": [],
      "source": [
        ""
      ]
    },
    {
      "cell_type": "markdown",
      "metadata": {
        "id": "rs0jo7F0bIsm"
      },
      "source": [
        "<!--\n",
        "#### 97. Considering 2 vectors A & B, write the einsum equivalent of inner, outer, sum, and mul function (★★★) \n",
        "-->\n",
        "#### 97. 2つのベクトル A と B があるとき、内積、外積、総和、掛け算の関数をアインシュタイン縮約記法で書く (★★★) "
      ]
    },
    {
      "cell_type": "code",
      "execution_count": null,
      "metadata": {
        "id": "bzAt4Sc4bIsm"
      },
      "outputs": [],
      "source": [
        ""
      ]
    },
    {
      "cell_type": "markdown",
      "metadata": {
        "id": "Nwg-6Hv0bIsm"
      },
      "source": [
        "<!--\n",
        "#### 98. Considering a path described by two vectors (X,Y), how to sample it using equidistant samples (★★★)? \n",
        "-->\n",
        "#### 98. 2つのベクトル (X,Y) によって記述される経路を考えたとき、等距離間隔でサンプリングする方法は (★★★)? "
      ]
    },
    {
      "cell_type": "code",
      "execution_count": null,
      "metadata": {
        "id": "4CBno5m3bIsm"
      },
      "outputs": [],
      "source": [
        ""
      ]
    },
    {
      "cell_type": "markdown",
      "metadata": {
        "id": "7KT1S8MvbIsm"
      },
      "source": [
        "<!--\n",
        "#### 99. Given an integer n and a 2D array X, select from X the rows which can be interpreted as draws from a multinomial distribution with n degrees, i.e., the rows which only contain integers and which sum to n. (★★★) \n",
        "-->\n",
        "#### 99. 整数 n および2次元配列 X が与えられたとき、n 項の多項分布から導かれたと解釈できる行を配列 X から選ぶ　(つまり、行は整数のみを含み、その合計は n のもの) (★★★) "
      ]
    },
    {
      "cell_type": "code",
      "execution_count": null,
      "metadata": {
        "id": "u4WlBwyUbIsn"
      },
      "outputs": [],
      "source": [
        ""
      ]
    },
    {
      "cell_type": "markdown",
      "metadata": {
        "id": "qBYc458xbIsn"
      },
      "source": [
        "<!--\n",
        "#### 100. Compute bootstrapped 95% confidence intervals for the mean of a 1D array X (i.e., resample the elements of an array with replacement N times, compute the mean of each sample, and then compute percentiles over the means). (★★★) \n",
        "-->\n",
        "#### 100. 1次元配列 X の平均に対してブートストラップ95％信頼区間を計算する (すなわち、N 回の復元抽出で配列の要素を再サンプリングし、それぞれサンプルの平均を計算し、平均値に対するパーセンタイルを計算する) (★★★) "
      ]
    },
    {
      "cell_type": "code",
      "execution_count": null,
      "metadata": {
        "id": "xFyXvpk6bIso"
      },
      "outputs": [],
      "source": [
        ""
      ]
    }
  ],
  "metadata": {
    "kernelspec": {
      "display_name": "Python 3",
      "language": "python",
      "name": "python3"
    },
    "language_info": {
      "codemirror_mode": {
        "name": "ipython",
        "version": 3
      },
      "file_extension": ".py",
      "mimetype": "text/x-python",
      "name": "python",
      "nbconvert_exporter": "python",
      "pygments_lexer": "ipython3",
      "version": "3.5.5"
    },
    "toc": {
      "base_numbering": 1,
      "nav_menu": {},
      "number_sections": false,
      "sideBar": true,
      "skip_h1_title": true,
      "title_cell": "Table of Contents",
      "title_sidebar": "Contents",
      "toc_cell": false,
      "toc_position": {
        "height": "calc(100% - 180px)",
        "left": "10px",
        "top": "150px",
        "width": "277.778px"
      },
      "toc_section_display": true,
      "toc_window_display": true
    },
    "varInspector": {
      "cols": {
        "lenName": 16,
        "lenType": 16,
        "lenVar": 40
      },
      "kernels_config": {
        "python": {
          "delete_cmd_postfix": "",
          "delete_cmd_prefix": "del ",
          "library": "var_list.py",
          "varRefreshCmd": "print(var_dic_list())"
        },
        "r": {
          "delete_cmd_postfix": ") ",
          "delete_cmd_prefix": "rm(",
          "library": "var_list.r",
          "varRefreshCmd": "cat(var_dic_list()) "
        }
      },
      "types_to_exclude": [
        "module",
        "function",
        "builtin_function_or_method",
        "instance",
        "_Feature"
      ],
      "window_display": false
    },
    "colab": {
      "name": "100_Numpy_exercises_no_solution.ja.ipynb",
      "provenance": []
    }
  },
  "nbformat": 4,
  "nbformat_minor": 0
}